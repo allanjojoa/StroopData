{
 "cells": [
  {
   "cell_type": "markdown",
   "metadata": {},
   "source": [
    "<h3>1. What is our independent variable? What is our dependent variable?</h3>"
   ]
  },
  {
   "cell_type": "markdown",
   "metadata": {},
   "source": [
    "So the independent variable would be whether if the text color and color name are the same.The dependent variables is the time taken by the person to say the say the color after identifying it."
   ]
  },
  {
   "cell_type": "markdown",
   "metadata": {},
   "source": [
    "<h3>2. What is an appropriate set of hypotheses for this task? What kind of statistical test do you expect to perform? Justify your choices.</h3>"
   ]
  },
  {
   "cell_type": "markdown",
   "metadata": {},
   "source": [
    "We use paired t-test since we need to compare two population means i.e. before and after observation of the same subject.In Paired t-test we have\n",
    "<ul>\n",
    "    <li>The sample size is small (n=23)</li>\n",
    "    <li>The variance of the population is unknown</li>\n",
    "    <li>The same people take the congruent and incongrunet words condition</li>\n",
    "</ul>\n",
    "\n",
    "For the test we assume the age difference between people in an control group is minimum, people were given the same level of difficulty in the same group, the number of people are small and all performed the test under both condition congruent and incongurent words.\n",
    "I would go for a paired t-test since observation in one sample is to be paired with observation of another sample.\n",
    "The null and alternate Hypothesis for this task is:\n",
    "<br\\> H<sub>o</sub>:μ<sub>c</sub> >= μ<sub>i</sub>\n",
    "<br\\> H<sub>a</sub>:μ<sub>c</sub> < μ<sub>i</sub>\n",
    "<br\\>\n",
    "    <br\\>Where <b> H<sub>o</sub> </b>is Null Hypothesis and <b> H<sub>a</sub> </b>is Alternate Hypothesis.<b> μ<sub>c</sub> </b>is mean of the population reaction time for congruent words and <b>μ<sub>i</sub></b> is mean of the population reaction time for incongruent words.<br/>\n",
    "Here the null hypothesis(H<sub>o</sub>) is where the mean of the population reaction time for the congruent word(μ<sub>c</sub>) is greater than population mean for incongruent words condition(μ<sub>i</sub>).The alternate hytpothesis(H<sub>a</sub>) is where the population mean for reaction time of congurent words(μ<sub>c</sub>) condition is less than the population mean of incongruent words (μ<sub>i</sub>)condition."
   ]
  },
  {
   "cell_type": "markdown",
   "metadata": {},
   "source": [
    "<h3>3. Report some descriptive statistics regarding this dataset. Include at least one measure of central tendency and at least one measure of variability</h3>"
   ]
  },
  {
   "cell_type": "markdown",
   "metadata": {},
   "source": [
    "Here we are given data for 24 participants and below we find the mean and standard deviation for the sample for both congruent and incongruent words condition."
   ]
  },
  {
   "cell_type": "code",
   "execution_count": 9,
   "metadata": {},
   "outputs": [],
   "source": [
    "import csv\n",
    "from scipy import stats\n",
    "from scipy.stats import norm\n",
    "import statistics\n",
    "import numpy as np\n",
    "from scipy import stats\n",
    "import pandas\n",
    "import matplotlib.pyplot as plt\n",
    "with open('stroopdata.csv', 'r') as f:\n",
    "    reader = csv.reader(f)\n",
    "    r = reader.__next__()\n",
    "    congruent = []\n",
    "    incongruent = []\n",
    "    for row in reader:\n",
    "        congruent.append(float(row[0]))\n",
    "        incongruent.append(float(row[1]))"
   ]
  },
  {
   "cell_type": "code",
   "execution_count": 10,
   "metadata": {},
   "outputs": [],
   "source": [
    "mean = []\n",
    "stdev =[]\n",
    "\n",
    "mean.append(statistics.mean(congruent))\n",
    "mean.append(statistics.mean(incongruent))\n",
    "\n",
    "stdev.append(statistics.stdev(congruent))\n",
    "stdev.append(statistics.stdev(incongruent))"
   ]
  },
  {
   "cell_type": "code",
   "execution_count": 11,
   "metadata": {},
   "outputs": [
    {
     "data": {
      "text/html": [
       "<div>\n",
       "<style scoped>\n",
       "    .dataframe tbody tr th:only-of-type {\n",
       "        vertical-align: middle;\n",
       "    }\n",
       "\n",
       "    .dataframe tbody tr th {\n",
       "        vertical-align: top;\n",
       "    }\n",
       "\n",
       "    .dataframe thead th {\n",
       "        text-align: right;\n",
       "    }\n",
       "</style>\n",
       "<table border=\"1\" class=\"dataframe\">\n",
       "  <thead>\n",
       "    <tr style=\"text-align: right;\">\n",
       "      <th></th>\n",
       "      <th>Congruent</th>\n",
       "      <th>Incongruent</th>\n",
       "    </tr>\n",
       "  </thead>\n",
       "  <tbody>\n",
       "    <tr>\n",
       "      <th>mean</th>\n",
       "      <td>14.051125</td>\n",
       "      <td>22.015917</td>\n",
       "    </tr>\n",
       "    <tr>\n",
       "      <th>stdev</th>\n",
       "      <td>3.559358</td>\n",
       "      <td>4.797057</td>\n",
       "    </tr>\n",
       "  </tbody>\n",
       "</table>\n",
       "</div>"
      ],
      "text/plain": [
       "       Congruent  Incongruent\n",
       "mean   14.051125    22.015917\n",
       "stdev   3.559358     4.797057"
      ]
     },
     "execution_count": 11,
     "metadata": {},
     "output_type": "execute_result"
    }
   ],
   "source": [
    "data = np.array([mean,stdev])\n",
    "xlabel = ['Congruent','Incongruent']\n",
    "ylabel = ['mean','stdev']\n",
    "pandas.DataFrame(data,ylabel,xlabel)"
   ]
  },
  {
   "cell_type": "markdown",
   "metadata": {},
   "source": [
    "<h3>4. Provide one or two visualizations that show the distribution of the sample data. Write one or two sentences noting what you observe about the plot or plots.</h3>"
   ]
  },
  {
   "cell_type": "markdown",
   "metadata": {},
   "source": [
    "The below shows an boxplot for both congruent and incongruent words and we can see that in incongruent there is apparently two outliers."
   ]
  },
  {
   "cell_type": "markdown",
   "metadata": {},
   "source": [
    "The <i>y-axis</i> is the <i>reaction time</i>"
   ]
  },
  {
   "cell_type": "code",
   "execution_count": 12,
   "metadata": {},
   "outputs": [
    {
     "data": {
      "text/plain": [
       "<function matplotlib.pyplot.show>"
      ]
     },
     "execution_count": 12,
     "metadata": {},
     "output_type": "execute_result"
    },
    {
     "data": {
      "image/png": "[encoded data removed]",
      "text/plain": [
       "<matplotlib.figure.Figure at 0x7f40d78a0390>"
      ]
     },
     "metadata": {},
     "output_type": "display_data"
    }
   ],
   "source": [
    "%matplotlib inline\n",
    "plt.boxplot(congruent)\n",
    "plt.show"
   ]
  },
  {
   "cell_type": "code",
   "execution_count": 13,
   "metadata": {},
   "outputs": [
    {
     "data": {
      "text/plain": [
       "<function matplotlib.pyplot.show>"
      ]
     },
     "execution_count": 13,
     "metadata": {},
     "output_type": "execute_result"
    },
    {
     "data": {
      "image/png": "[encoded data removed]",
      "text/plain": [
       "<matplotlib.figure.Figure at 0x7f41126db9b0>"
      ]
     },
     "metadata": {},
     "output_type": "display_data"
    }
   ],
   "source": [
    "%matplotlib inline\n",
    "plt.boxplot(incongruent)\n",
    "plt.show"
   ]
  },
  {
   "cell_type": "markdown",
   "metadata": {},
   "source": [
    "<h3>5. Now, perform the statistical test and report your results. What is your confidence level and your critical statistic value? Do you reject the null hypothesis or fail to reject it? Come to a conclusion in terms of the experiment task. Did the results match up with your expectations? </h3>"
   ]
  },
  {
   "cell_type": "code",
   "execution_count": 14,
   "metadata": {},
   "outputs": [
    {
     "name": "stdout",
     "output_type": "stream",
     "text": [
      "t-Statistics: -8.020706944109959\n",
      "pvalue: 4.1030005857111556e-08\n"
     ]
    }
   ],
   "source": [
    "tstat,pvalue = stats.ttest_rel(congruent, incongruent)\n",
    "print('t-Statistics:',tstat)\n",
    "print('pvalue:',pvalue)"
   ]
  },
  {
   "cell_type": "code",
   "execution_count": 18,
   "metadata": {},
   "outputs": [
    {
     "name": "stdout",
     "output_type": "stream",
     "text": [
      "-1.7138715277470478\n"
     ]
    }
   ],
   "source": [
    "print(stats.t.ppf(0.05,23))"
   ]
  },
  {
   "cell_type": "markdown",
   "metadata": {},
   "source": [
    "Taking α=0.05 ,the t-statistics level is equal to -8.0207 which less than the t-crtical value that is -1.7138.The pvalue is 4.103e-08 which is quite near to zero value and less than the α value.Therfore we reject the null hypothesis for alternative hypothesis.Thus the reaction time for incongruent words is longer than congruent words conditions."
   ]
  },
  {
   "cell_type": "code",
   "execution_count": null,
   "metadata": {},
   "outputs": [],
   "source": []
  }
 ],
 "metadata": {
  "kernelspec": {
   "display_name": "Python 3",
   "language": "python",
   "name": "python3"
  },
  "language_info": {
   "codemirror_mode": {
    "name": "ipython",
    "version": 3
   },
   "file_extension": ".py",
   "mimetype": "text/x-python",
   "name": "python",
   "nbconvert_exporter": "python",
   "pygments_lexer": "ipython3",
   "version": "3.6.3"
  }
 },
 "nbformat": 4,
 "nbformat_minor": 2
}
